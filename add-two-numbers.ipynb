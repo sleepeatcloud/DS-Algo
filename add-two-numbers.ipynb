{
 "cells": [
  {
   "cell_type": "code",
   "execution_count": 123,
   "metadata": {},
   "outputs": [
    {
     "name": "stdout",
     "output_type": "stream",
     "text": [
      "[1, 2, 3]\n",
      "[4, 5, 6]\n",
      "None\n"
     ]
    }
   ],
   "source": [
    "# Definition for singly-linked list. \n",
    "class ListNode:\n",
    "    def __init__(self, val=0, next=None):\n",
    "        self.val = val\n",
    "        self.next = next\n",
    "\n",
    "class Solution:\n",
    "    def __init__(self):\n",
    "        self.head=None\n",
    "\n",
    "    def addTwoNumbers(self, l1: ListNode, l2: ListNode) -> ListNode:\n",
    "        dummy = ListNode()\n",
    "        cur = dummy\n",
    "\n",
    "        carry = 0\n",
    "        while l1 or l2 or carry:\n",
    "            v1 = l1.val if l1 else 0\n",
    "            v2 = l2.val if l2 else 0\n",
    "\n",
    "            # new digit\n",
    "            val = v1 + v2 + carry\n",
    "            carry = val // 10\n",
    "            val = val % 10\n",
    "            cur.next = ListNode(val)\n",
    "\n",
    "            # update ptrs\n",
    "            cur = cur.next\n",
    "            l1 = l1.next if l1 else None\n",
    "            l2 = l2.next if l2 else None\n",
    "\n",
    "        return dummy.next\n",
    "\n",
    "    def insert_at_end(self,val):\n",
    "        if self.head is None:\n",
    "            self.head=ListNode(val,None)\n",
    "            return\n",
    "        itr=self.head\n",
    "        while itr.next:\n",
    "            itr=itr.next\n",
    "        itr.next=ListNode(val,None)\n",
    "\n",
    "    def print(self):\n",
    "        if self.head is None:\n",
    "            print(\"Linked List is empty\")\n",
    "            return\n",
    "\n",
    "        itr=self.head\n",
    "        llstr=\"\"\n",
    "\n",
    "        while itr:\n",
    "            llstr +=str(itr.val)\n",
    "            itr=itr.next\n",
    "        print(llstr)\n",
    "\n",
    "ll=Solution()\n",
    "ss=Solution()\n",
    "res=Solution()\n",
    "a=ll.insert_at_end([1,2,3])\n",
    "b=ss.insert_at_end([4,5,6])\n",
    "ll.print()\n",
    "ss.print()\n",
    "print(res.addTwoNumbers(a,b))\n"
   ]
  }
 ],
 "metadata": {
  "kernelspec": {
   "display_name": "Python 3.9.7 ('base')",
   "language": "python",
   "name": "python3"
  },
  "language_info": {
   "name": "python",
   "version": "3.9.7"
  },
  "orig_nbformat": 4,
  "vscode": {
   "interpreter": {
    "hash": "9e27918eeee69f30c1be3679f1fdf7f3501f9bc15ee7d413b66ea34e387a6c45"
   }
  }
 },
 "nbformat": 4,
 "nbformat_minor": 2
}
