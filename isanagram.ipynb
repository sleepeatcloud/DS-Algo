{
 "cells": [
  {
   "cell_type": "code",
   "execution_count": 6,
   "metadata": {},
   "outputs": [],
   "source": [
    "class solution:\n",
    "    def isnanagram(self, s: str,t:str)->bool:\n",
    "        if len(s) !=len(t):\n",
    "            return False\n",
    "        countS,countT={},{}    \n",
    "        for i in range(len(s)):\n",
    "            countS[s[i]]=1+countS.get(s[i],0)\n",
    "            countT[t[i]]=1+countT.get(t[i],0)\n",
    "        print(countS,countT)    \n",
    "        for c in countS:\n",
    "             if countS[c]  !=countT.get(c,0):\n",
    "                 return False\n",
    "        return True        \n",
    "\n",
    "\n",
    "            \n",
    "\n",
    "               \n"
   ]
  },
  {
   "cell_type": "code",
   "execution_count": 7,
   "metadata": {},
   "outputs": [
    {
     "name": "stdout",
     "output_type": "stream",
     "text": [
      "{'a': 1, 'n': 1, 'd': 1, 'y': 1} {'y': 1, 'd': 1, 'a': 1, 'n': 1}\n"
     ]
    },
    {
     "data": {
      "text/plain": [
       "True"
      ]
     },
     "execution_count": 7,
     "metadata": {},
     "output_type": "execute_result"
    }
   ],
   "source": [
    "a=solution()\n",
    "a.isnanagram('andy','ydan')"
   ]
  }
 ],
 "metadata": {
  "kernelspec": {
   "display_name": "Python 3.8.2 64-bit",
   "language": "python",
   "name": "python3"
  },
  "language_info": {
   "codemirror_mode": {
    "name": "ipython",
    "version": 3
   },
   "file_extension": ".py",
   "mimetype": "text/x-python",
   "name": "python",
   "nbconvert_exporter": "python",
   "pygments_lexer": "ipython3",
   "version": "3.8.9"
  },
  "orig_nbformat": 4,
  "vscode": {
   "interpreter": {
    "hash": "5edc29c2ed010d6458d71a83433b383a96a8cbd3efe8531bc90c4b8a5b8bcec9"
   }
  }
 },
 "nbformat": 4,
 "nbformat_minor": 2
}
